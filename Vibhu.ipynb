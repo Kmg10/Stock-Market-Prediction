{
 "cells": [
  {
   "cell_type": "code",
   "execution_count": 2,
   "metadata": {
    "ExecuteTime": {
     "end_time": "2019-01-29T04:41:08.779208Z",
     "start_time": "2019-01-29T04:41:06.813991Z"
    }
   },
   "outputs": [],
   "source": [
    "import pandas as pd\n",
    "import matplotlib.pyplot as plt\n",
    "\n",
    "import seaborn as sns\n",
    "import os"
   ]
  },
  {
   "cell_type": "code",
   "execution_count": 17,
   "metadata": {
    "ExecuteTime": {
     "end_time": "2019-01-29T04:48:46.675695Z",
     "start_time": "2019-01-29T04:48:46.653755Z"
    }
   },
   "outputs": [],
   "source": [
    "def read_dataset(fileName=\"GSPC.csv\"):\n",
    "    cwd = os.getcwd()\n",
    "    dataset_path = os.path.join(cwd, fileName)\n",
    "    data = pd.read_csv(dataset_path, parse_dates=True)\n",
    "    return data\n",
    "                 \n",
    "dataset = read_dataset()   "
   ]
  },
  {
   "cell_type": "code",
   "execution_count": 18,
   "metadata": {
    "ExecuteTime": {
     "end_time": "2019-01-29T04:48:48.172438Z",
     "start_time": "2019-01-29T04:48:48.150232Z"
    }
   },
   "outputs": [
    {
     "data": {
      "text/html": [
       "<div>\n",
       "<style scoped>\n",
       "    .dataframe tbody tr th:only-of-type {\n",
       "        vertical-align: middle;\n",
       "    }\n",
       "\n",
       "    .dataframe tbody tr th {\n",
       "        vertical-align: top;\n",
       "    }\n",
       "\n",
       "    .dataframe thead th {\n",
       "        text-align: right;\n",
       "    }\n",
       "</style>\n",
       "<table border=\"1\" class=\"dataframe\">\n",
       "  <thead>\n",
       "    <tr style=\"text-align: right;\">\n",
       "      <th></th>\n",
       "      <th>Date</th>\n",
       "      <th>Open</th>\n",
       "      <th>High</th>\n",
       "      <th>Low</th>\n",
       "      <th>Close</th>\n",
       "      <th>Adj Close</th>\n",
       "      <th>Volume</th>\n",
       "    </tr>\n",
       "  </thead>\n",
       "  <tbody>\n",
       "    <tr>\n",
       "      <th>0</th>\n",
       "      <td>2014-01-28</td>\n",
       "      <td>1783.000000</td>\n",
       "      <td>1793.869995</td>\n",
       "      <td>1779.489990</td>\n",
       "      <td>1792.500000</td>\n",
       "      <td>1792.500000</td>\n",
       "      <td>3437830000</td>\n",
       "    </tr>\n",
       "    <tr>\n",
       "      <th>1</th>\n",
       "      <td>2014-01-29</td>\n",
       "      <td>1790.150024</td>\n",
       "      <td>1790.150024</td>\n",
       "      <td>1770.449951</td>\n",
       "      <td>1774.199951</td>\n",
       "      <td>1774.199951</td>\n",
       "      <td>3964020000</td>\n",
       "    </tr>\n",
       "    <tr>\n",
       "      <th>2</th>\n",
       "      <td>2014-01-30</td>\n",
       "      <td>1777.170044</td>\n",
       "      <td>1798.770020</td>\n",
       "      <td>1777.170044</td>\n",
       "      <td>1794.189941</td>\n",
       "      <td>1794.189941</td>\n",
       "      <td>3547510000</td>\n",
       "    </tr>\n",
       "    <tr>\n",
       "      <th>3</th>\n",
       "      <td>2014-01-31</td>\n",
       "      <td>1790.880005</td>\n",
       "      <td>1793.880005</td>\n",
       "      <td>1772.260010</td>\n",
       "      <td>1782.589966</td>\n",
       "      <td>1782.589966</td>\n",
       "      <td>4059690000</td>\n",
       "    </tr>\n",
       "    <tr>\n",
       "      <th>4</th>\n",
       "      <td>2014-02-03</td>\n",
       "      <td>1782.680054</td>\n",
       "      <td>1784.829956</td>\n",
       "      <td>1739.660034</td>\n",
       "      <td>1741.890015</td>\n",
       "      <td>1741.890015</td>\n",
       "      <td>4726040000</td>\n",
       "    </tr>\n",
       "  </tbody>\n",
       "</table>\n",
       "</div>"
      ],
      "text/plain": [
       "         Date         Open         High          Low        Close  \\\n",
       "0  2014-01-28  1783.000000  1793.869995  1779.489990  1792.500000   \n",
       "1  2014-01-29  1790.150024  1790.150024  1770.449951  1774.199951   \n",
       "2  2014-01-30  1777.170044  1798.770020  1777.170044  1794.189941   \n",
       "3  2014-01-31  1790.880005  1793.880005  1772.260010  1782.589966   \n",
       "4  2014-02-03  1782.680054  1784.829956  1739.660034  1741.890015   \n",
       "\n",
       "     Adj Close      Volume  \n",
       "0  1792.500000  3437830000  \n",
       "1  1774.199951  3964020000  \n",
       "2  1794.189941  3547510000  \n",
       "3  1782.589966  4059690000  \n",
       "4  1741.890015  4726040000  "
      ]
     },
     "execution_count": 18,
     "metadata": {},
     "output_type": "execute_result"
    }
   ],
   "source": [
    "dataset.head()"
   ]
  },
  {
   "cell_type": "code",
   "execution_count": 19,
   "metadata": {
    "ExecuteTime": {
     "end_time": "2019-01-29T04:48:52.936278Z",
     "start_time": "2019-01-29T04:48:52.893162Z"
    }
   },
   "outputs": [
    {
     "data": {
      "text/html": [
       "<div>\n",
       "<style scoped>\n",
       "    .dataframe tbody tr th:only-of-type {\n",
       "        vertical-align: middle;\n",
       "    }\n",
       "\n",
       "    .dataframe tbody tr th {\n",
       "        vertical-align: top;\n",
       "    }\n",
       "\n",
       "    .dataframe thead th {\n",
       "        text-align: right;\n",
       "    }\n",
       "</style>\n",
       "<table border=\"1\" class=\"dataframe\">\n",
       "  <thead>\n",
       "    <tr style=\"text-align: right;\">\n",
       "      <th></th>\n",
       "      <th>Open</th>\n",
       "      <th>High</th>\n",
       "      <th>Low</th>\n",
       "      <th>Close</th>\n",
       "      <th>Adj Close</th>\n",
       "      <th>Volume</th>\n",
       "    </tr>\n",
       "  </thead>\n",
       "  <tbody>\n",
       "    <tr>\n",
       "      <th>count</th>\n",
       "      <td>1259.000000</td>\n",
       "      <td>1259.000000</td>\n",
       "      <td>1259.000000</td>\n",
       "      <td>1259.000000</td>\n",
       "      <td>1259.000000</td>\n",
       "      <td>1.259000e+03</td>\n",
       "    </tr>\n",
       "    <tr>\n",
       "      <th>mean</th>\n",
       "      <td>2266.335980</td>\n",
       "      <td>2276.272828</td>\n",
       "      <td>2255.342542</td>\n",
       "      <td>2266.536878</td>\n",
       "      <td>2266.536878</td>\n",
       "      <td>3.591100e+09</td>\n",
       "    </tr>\n",
       "    <tr>\n",
       "      <th>std</th>\n",
       "      <td>311.527592</td>\n",
       "      <td>312.238347</td>\n",
       "      <td>310.487640</td>\n",
       "      <td>311.082279</td>\n",
       "      <td>311.082279</td>\n",
       "      <td>6.926642e+08</td>\n",
       "    </tr>\n",
       "    <tr>\n",
       "      <th>min</th>\n",
       "      <td>1743.819946</td>\n",
       "      <td>1755.790039</td>\n",
       "      <td>1737.920044</td>\n",
       "      <td>1741.890015</td>\n",
       "      <td>1741.890015</td>\n",
       "      <td>1.349780e+09</td>\n",
       "    </tr>\n",
       "    <tr>\n",
       "      <th>25%</th>\n",
       "      <td>2031.654968</td>\n",
       "      <td>2041.045044</td>\n",
       "      <td>2020.184998</td>\n",
       "      <td>2031.565002</td>\n",
       "      <td>2031.565002</td>\n",
       "      <td>3.186630e+09</td>\n",
       "    </tr>\n",
       "    <tr>\n",
       "      <th>50%</th>\n",
       "      <td>2131.719971</td>\n",
       "      <td>2144.379883</td>\n",
       "      <td>2125.350098</td>\n",
       "      <td>2132.979980</td>\n",
       "      <td>2132.979980</td>\n",
       "      <td>3.490260e+09</td>\n",
       "    </tr>\n",
       "    <tr>\n",
       "      <th>75%</th>\n",
       "      <td>2548.714966</td>\n",
       "      <td>2555.234985</td>\n",
       "      <td>2532.244995</td>\n",
       "      <td>2547.744995</td>\n",
       "      <td>2547.744995</td>\n",
       "      <td>3.893045e+09</td>\n",
       "    </tr>\n",
       "    <tr>\n",
       "      <th>max</th>\n",
       "      <td>2936.760010</td>\n",
       "      <td>2940.909912</td>\n",
       "      <td>2927.110107</td>\n",
       "      <td>2930.750000</td>\n",
       "      <td>2930.750000</td>\n",
       "      <td>7.609010e+09</td>\n",
       "    </tr>\n",
       "  </tbody>\n",
       "</table>\n",
       "</div>"
      ],
      "text/plain": [
       "              Open         High          Low        Close    Adj Close  \\\n",
       "count  1259.000000  1259.000000  1259.000000  1259.000000  1259.000000   \n",
       "mean   2266.335980  2276.272828  2255.342542  2266.536878  2266.536878   \n",
       "std     311.527592   312.238347   310.487640   311.082279   311.082279   \n",
       "min    1743.819946  1755.790039  1737.920044  1741.890015  1741.890015   \n",
       "25%    2031.654968  2041.045044  2020.184998  2031.565002  2031.565002   \n",
       "50%    2131.719971  2144.379883  2125.350098  2132.979980  2132.979980   \n",
       "75%    2548.714966  2555.234985  2532.244995  2547.744995  2547.744995   \n",
       "max    2936.760010  2940.909912  2927.110107  2930.750000  2930.750000   \n",
       "\n",
       "             Volume  \n",
       "count  1.259000e+03  \n",
       "mean   3.591100e+09  \n",
       "std    6.926642e+08  \n",
       "min    1.349780e+09  \n",
       "25%    3.186630e+09  \n",
       "50%    3.490260e+09  \n",
       "75%    3.893045e+09  \n",
       "max    7.609010e+09  "
      ]
     },
     "execution_count": 19,
     "metadata": {},
     "output_type": "execute_result"
    }
   ],
   "source": [
    "dataset.describe()"
   ]
  },
  {
   "cell_type": "code",
   "execution_count": 20,
   "metadata": {
    "ExecuteTime": {
     "end_time": "2019-01-29T04:48:58.276974Z",
     "start_time": "2019-01-29T04:48:58.262562Z"
    }
   },
   "outputs": [
    {
     "data": {
      "text/plain": [
       "(1259, 7)"
      ]
     },
     "execution_count": 20,
     "metadata": {},
     "output_type": "execute_result"
    }
   ],
   "source": [
    "dataset.shape"
   ]
  },
  {
   "cell_type": "code",
   "execution_count": null,
   "metadata": {},
   "outputs": [],
   "source": [
    "time_n_closing_value = "
   ]
  },
  {
   "cell_type": "code",
   "execution_count": 27,
   "metadata": {
    "ExecuteTime": {
     "end_time": "2019-01-29T04:54:44.198310Z",
     "start_time": "2019-01-29T04:54:43.896621Z"
    }
   },
   "outputs": [
    {
     "data": {
      "text/plain": [
       "Text(0, 0.5, 'Closing Time Value')"
      ]
     },
     "execution_count": 27,
     "metadata": {},
     "output_type": "execute_result"
    },
    {
     "data": {
      "image/png": "[encoded data removed]",
      "text/plain": [
       "<Figure size 720x360 with 1 Axes>"
      ]
     },
     "metadata": {
      "needs_background": "light"
     },
     "output_type": "display_data"
    }
   ],
   "source": [
    "ax = (.plot.line(figsize=(10,5), fontsize=20, color='red'))\n",
    "ax.set_title(\"Closing Time Value over Time\", fontsize=20)\n",
    "ax.set_xlabel(\"Time\", fontsize=20)\n",
    "ax.set_ylabel(\"Closing Time Value\", fontsize=20)"
   ]
  }
 ],
 "metadata": {
  "kernelspec": {
   "display_name": "temp_DeepLearning",
   "language": "python",
   "name": "temp_deeplearning"
  },
  "language_info": {
   "codemirror_mode": {
    "name": "ipython",
    "version": 3
   },
   "file_extension": ".py",
   "mimetype": "text/x-python",
   "name": "python",
   "nbconvert_exporter": "python",
   "pygments_lexer": "ipython3",
   "version": "3.6.7"
  },
  "varInspector": {
   "cols": {
    "lenName": 16,
    "lenType": 16,
    "lenVar": 40
   },
   "kernels_config": {
    "python": {
     "delete_cmd_postfix": "",
     "delete_cmd_prefix": "del ",
     "library": "var_list.py",
     "varRefreshCmd": "print(var_dic_list())"
    },
    "r": {
     "delete_cmd_postfix": ") ",
     "delete_cmd_prefix": "rm(",
     "library": "var_list.r",
     "varRefreshCmd": "cat(var_dic_list()) "
    }
   },
   "types_to_exclude": [
    "module",
    "function",
    "builtin_function_or_method",
    "instance",
    "_Feature"
   ],
   "window_display": false
  }
 },
 "nbformat": 4,
 "nbformat_minor": 2
}
