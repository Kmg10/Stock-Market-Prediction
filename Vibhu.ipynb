{
 "cells": [
  {
   "cell_type": "markdown",
   "metadata": {
    "heading_collapsed": true
   },
   "source": [
    "# Data Reading"
   ]
  },
  {
   "cell_type": "markdown",
   "metadata": {
    "heading_collapsed": true,
    "hidden": true
   },
   "source": [
    "## Importing"
   ]
  },
  {
   "cell_type": "code",
   "execution_count": 22,
   "metadata": {
    "ExecuteTime": {
     "end_time": "2019-01-29T14:09:46.458667Z",
     "start_time": "2019-01-29T14:09:46.433917Z"
    },
    "hidden": true,
    "init_cell": true
   },
   "outputs": [],
   "source": [
    "import pandas as pd\n",
    "import matplotlib.pyplot as plt\n",
    "\n",
    "import seaborn as sns\n",
    "import os\n",
    "%matplotlib inline"
   ]
  },
  {
   "cell_type": "markdown",
   "metadata": {
    "heading_collapsed": true,
    "hidden": true
   },
   "source": [
    "## Reading Data"
   ]
  },
  {
   "cell_type": "code",
   "execution_count": 23,
   "metadata": {
    "ExecuteTime": {
     "end_time": "2019-01-29T14:09:46.548326Z",
     "start_time": "2019-01-29T14:09:46.475422Z"
    },
    "hidden": true,
    "init_cell": true
   },
   "outputs": [],
   "source": [
    "def read_dataset(fileName=\"GSPC.csv\"):\n",
    "    cwd = os.getcwd()\n",
    "    dataset_path = os.path.join(cwd, fileName)\n",
    "    data = pd.read_csv(dataset_path, parse_dates=True, infer_datetime_format=True)\n",
    "    return data\n",
    "                 \n",
    "dataset = read_dataset()   "
   ]
  },
  {
   "cell_type": "markdown",
   "metadata": {
    "heading_collapsed": true,
    "hidden": true
   },
   "source": [
    "## About Data"
   ]
  },
  {
   "cell_type": "code",
   "execution_count": 3,
   "metadata": {
    "ExecuteTime": {
     "end_time": "2019-01-29T08:14:55.661599Z",
     "start_time": "2019-01-29T08:14:55.602751Z"
    },
    "hidden": true
   },
   "outputs": [
    {
     "data": {
      "text/html": [
       "<div>\n",
       "<style scoped>\n",
       "    .dataframe tbody tr th:only-of-type {\n",
       "        vertical-align: middle;\n",
       "    }\n",
       "\n",
       "    .dataframe tbody tr th {\n",
       "        vertical-align: top;\n",
       "    }\n",
       "\n",
       "    .dataframe thead th {\n",
       "        text-align: right;\n",
       "    }\n",
       "</style>\n",
       "<table border=\"1\" class=\"dataframe\">\n",
       "  <thead>\n",
       "    <tr style=\"text-align: right;\">\n",
       "      <th></th>\n",
       "      <th>Date</th>\n",
       "      <th>Open</th>\n",
       "      <th>High</th>\n",
       "      <th>Low</th>\n",
       "      <th>Close</th>\n",
       "      <th>Adj Close</th>\n",
       "      <th>Volume</th>\n",
       "    </tr>\n",
       "  </thead>\n",
       "  <tbody>\n",
       "    <tr>\n",
       "      <th>0</th>\n",
       "      <td>2014-01-28</td>\n",
       "      <td>1783.000000</td>\n",
       "      <td>1793.869995</td>\n",
       "      <td>1779.489990</td>\n",
       "      <td>1792.500000</td>\n",
       "      <td>1792.500000</td>\n",
       "      <td>3437830000</td>\n",
       "    </tr>\n",
       "    <tr>\n",
       "      <th>1</th>\n",
       "      <td>2014-01-29</td>\n",
       "      <td>1790.150024</td>\n",
       "      <td>1790.150024</td>\n",
       "      <td>1770.449951</td>\n",
       "      <td>1774.199951</td>\n",
       "      <td>1774.199951</td>\n",
       "      <td>3964020000</td>\n",
       "    </tr>\n",
       "    <tr>\n",
       "      <th>2</th>\n",
       "      <td>2014-01-30</td>\n",
       "      <td>1777.170044</td>\n",
       "      <td>1798.770020</td>\n",
       "      <td>1777.170044</td>\n",
       "      <td>1794.189941</td>\n",
       "      <td>1794.189941</td>\n",
       "      <td>3547510000</td>\n",
       "    </tr>\n",
       "    <tr>\n",
       "      <th>3</th>\n",
       "      <td>2014-01-31</td>\n",
       "      <td>1790.880005</td>\n",
       "      <td>1793.880005</td>\n",
       "      <td>1772.260010</td>\n",
       "      <td>1782.589966</td>\n",
       "      <td>1782.589966</td>\n",
       "      <td>4059690000</td>\n",
       "    </tr>\n",
       "    <tr>\n",
       "      <th>4</th>\n",
       "      <td>2014-02-03</td>\n",
       "      <td>1782.680054</td>\n",
       "      <td>1784.829956</td>\n",
       "      <td>1739.660034</td>\n",
       "      <td>1741.890015</td>\n",
       "      <td>1741.890015</td>\n",
       "      <td>4726040000</td>\n",
       "    </tr>\n",
       "  </tbody>\n",
       "</table>\n",
       "</div>"
      ],
      "text/plain": [
       "         Date         Open         High          Low        Close  \\\n",
       "0  2014-01-28  1783.000000  1793.869995  1779.489990  1792.500000   \n",
       "1  2014-01-29  1790.150024  1790.150024  1770.449951  1774.199951   \n",
       "2  2014-01-30  1777.170044  1798.770020  1777.170044  1794.189941   \n",
       "3  2014-01-31  1790.880005  1793.880005  1772.260010  1782.589966   \n",
       "4  2014-02-03  1782.680054  1784.829956  1739.660034  1741.890015   \n",
       "\n",
       "     Adj Close      Volume  \n",
       "0  1792.500000  3437830000  \n",
       "1  1774.199951  3964020000  \n",
       "2  1794.189941  3547510000  \n",
       "3  1782.589966  4059690000  \n",
       "4  1741.890015  4726040000  "
      ]
     },
     "execution_count": 3,
     "metadata": {},
     "output_type": "execute_result"
    }
   ],
   "source": [
    "dataset.head()"
   ]
  },
  {
   "cell_type": "code",
   "execution_count": 33,
   "metadata": {
    "ExecuteTime": {
     "end_time": "2019-01-29T05:05:27.411396Z",
     "start_time": "2019-01-29T05:05:27.370581Z"
    },
    "hidden": true
   },
   "outputs": [
    {
     "data": {
      "text/html": [
       "<div>\n",
       "<style scoped>\n",
       "    .dataframe tbody tr th:only-of-type {\n",
       "        vertical-align: middle;\n",
       "    }\n",
       "\n",
       "    .dataframe tbody tr th {\n",
       "        vertical-align: top;\n",
       "    }\n",
       "\n",
       "    .dataframe thead th {\n",
       "        text-align: right;\n",
       "    }\n",
       "</style>\n",
       "<table border=\"1\" class=\"dataframe\">\n",
       "  <thead>\n",
       "    <tr style=\"text-align: right;\">\n",
       "      <th></th>\n",
       "      <th>Open</th>\n",
       "      <th>High</th>\n",
       "      <th>Low</th>\n",
       "      <th>Close</th>\n",
       "      <th>Adj Close</th>\n",
       "      <th>Volume</th>\n",
       "    </tr>\n",
       "  </thead>\n",
       "  <tbody>\n",
       "    <tr>\n",
       "      <th>count</th>\n",
       "      <td>1259.000000</td>\n",
       "      <td>1259.000000</td>\n",
       "      <td>1259.000000</td>\n",
       "      <td>1259.000000</td>\n",
       "      <td>1259.000000</td>\n",
       "      <td>1.259000e+03</td>\n",
       "    </tr>\n",
       "    <tr>\n",
       "      <th>mean</th>\n",
       "      <td>2266.335980</td>\n",
       "      <td>2276.272828</td>\n",
       "      <td>2255.342542</td>\n",
       "      <td>2266.536878</td>\n",
       "      <td>2266.536878</td>\n",
       "      <td>3.591100e+09</td>\n",
       "    </tr>\n",
       "    <tr>\n",
       "      <th>std</th>\n",
       "      <td>311.527592</td>\n",
       "      <td>312.238347</td>\n",
       "      <td>310.487640</td>\n",
       "      <td>311.082279</td>\n",
       "      <td>311.082279</td>\n",
       "      <td>6.926642e+08</td>\n",
       "    </tr>\n",
       "    <tr>\n",
       "      <th>min</th>\n",
       "      <td>1743.819946</td>\n",
       "      <td>1755.790039</td>\n",
       "      <td>1737.920044</td>\n",
       "      <td>1741.890015</td>\n",
       "      <td>1741.890015</td>\n",
       "      <td>1.349780e+09</td>\n",
       "    </tr>\n",
       "    <tr>\n",
       "      <th>25%</th>\n",
       "      <td>2031.654968</td>\n",
       "      <td>2041.045044</td>\n",
       "      <td>2020.184998</td>\n",
       "      <td>2031.565002</td>\n",
       "      <td>2031.565002</td>\n",
       "      <td>3.186630e+09</td>\n",
       "    </tr>\n",
       "    <tr>\n",
       "      <th>50%</th>\n",
       "      <td>2131.719971</td>\n",
       "      <td>2144.379883</td>\n",
       "      <td>2125.350098</td>\n",
       "      <td>2132.979980</td>\n",
       "      <td>2132.979980</td>\n",
       "      <td>3.490260e+09</td>\n",
       "    </tr>\n",
       "    <tr>\n",
       "      <th>75%</th>\n",
       "      <td>2548.714966</td>\n",
       "      <td>2555.234985</td>\n",
       "      <td>2532.244995</td>\n",
       "      <td>2547.744995</td>\n",
       "      <td>2547.744995</td>\n",
       "      <td>3.893045e+09</td>\n",
       "    </tr>\n",
       "    <tr>\n",
       "      <th>max</th>\n",
       "      <td>2936.760010</td>\n",
       "      <td>2940.909912</td>\n",
       "      <td>2927.110107</td>\n",
       "      <td>2930.750000</td>\n",
       "      <td>2930.750000</td>\n",
       "      <td>7.609010e+09</td>\n",
       "    </tr>\n",
       "  </tbody>\n",
       "</table>\n",
       "</div>"
      ],
      "text/plain": [
       "              Open         High          Low        Close    Adj Close  \\\n",
       "count  1259.000000  1259.000000  1259.000000  1259.000000  1259.000000   \n",
       "mean   2266.335980  2276.272828  2255.342542  2266.536878  2266.536878   \n",
       "std     311.527592   312.238347   310.487640   311.082279   311.082279   \n",
       "min    1743.819946  1755.790039  1737.920044  1741.890015  1741.890015   \n",
       "25%    2031.654968  2041.045044  2020.184998  2031.565002  2031.565002   \n",
       "50%    2131.719971  2144.379883  2125.350098  2132.979980  2132.979980   \n",
       "75%    2548.714966  2555.234985  2532.244995  2547.744995  2547.744995   \n",
       "max    2936.760010  2940.909912  2927.110107  2930.750000  2930.750000   \n",
       "\n",
       "             Volume  \n",
       "count  1.259000e+03  \n",
       "mean   3.591100e+09  \n",
       "std    6.926642e+08  \n",
       "min    1.349780e+09  \n",
       "25%    3.186630e+09  \n",
       "50%    3.490260e+09  \n",
       "75%    3.893045e+09  \n",
       "max    7.609010e+09  "
      ]
     },
     "execution_count": 33,
     "metadata": {},
     "output_type": "execute_result"
    }
   ],
   "source": [
    "dataset.describe()"
   ]
  },
  {
   "cell_type": "code",
   "execution_count": 4,
   "metadata": {
    "ExecuteTime": {
     "end_time": "2019-01-29T08:14:58.014554Z",
     "start_time": "2019-01-29T08:14:58.006529Z"
    },
    "hidden": true
   },
   "outputs": [
    {
     "data": {
      "text/plain": [
       "(1259, 7)"
      ]
     },
     "execution_count": 4,
     "metadata": {},
     "output_type": "execute_result"
    }
   ],
   "source": [
    "dataset.shape"
   ]
  },
  {
   "cell_type": "code",
   "execution_count": 24,
   "metadata": {
    "ExecuteTime": {
     "end_time": "2019-01-29T14:09:46.659745Z",
     "start_time": "2019-01-29T14:09:46.550723Z"
    },
    "hidden": true,
    "init_cell": true
   },
   "outputs": [],
   "source": [
    "time_n_closing_value = dataset.iloc[:,[0,4]]"
   ]
  },
  {
   "cell_type": "code",
   "execution_count": 25,
   "metadata": {
    "ExecuteTime": {
     "end_time": "2019-01-29T14:09:47.210020Z",
     "start_time": "2019-01-29T14:09:46.671158Z"
    },
    "hidden": true,
    "init_cell": true
   },
   "outputs": [
    {
     "data": {
      "text/plain": [
       "Text(0, 0.5, 'Closing Time Value')"
      ]
     },
     "execution_count": 25,
     "metadata": {},
     "output_type": "execute_result"
    },
    {
     "data": {
      "image/png": "[encoded data removed]",
      "text/plain": [
       "<Figure size 1440x360 with 1 Axes>"
      ]
     },
     "metadata": {
      "needs_background": "light"
     },
     "output_type": "display_data"
    }
   ],
   "source": [
    "ax = (time_n_closing_value.plot.line(figsize=(20,5), fontsize=20, color='red'))\n",
    "ax.set_title(\"Closing Time Value over Time\", fontsize=20)\n",
    "ax.set_xlabel(\"Time\", fontsize=20)\n",
    "ax.set_ylabel(\"Closing Time Value\", fontsize=20)"
   ]
  },
  {
   "cell_type": "markdown",
   "metadata": {},
   "source": [
    "# Tensorflow Implementation"
   ]
  },
  {
   "cell_type": "markdown",
   "metadata": {
    "heading_collapsed": true
   },
   "source": [
    "## Configuration for RNN"
   ]
  },
  {
   "cell_type": "code",
   "execution_count": 26,
   "metadata": {
    "ExecuteTime": {
     "end_time": "2019-01-29T14:09:47.222278Z",
     "start_time": "2019-01-29T14:09:47.217400Z"
    },
    "hidden": true,
    "init_cell": true
   },
   "outputs": [],
   "source": [
    "class RNNConfig():\n",
    "    input_size=1\n",
    "    num_steps=30\n",
    "    lstm_size=128\n",
    "    num_layers=1\n",
    "    keep_prob=0.8\n",
    "    batch_size = 64\n",
    "    init_learning_rate = 0.001\n",
    "    learning_rate_decay = 0.99\n",
    "    init_epoch = 5\n",
    "    max_epoch = 50\n",
    "\n",
    "config = RNNConfig()"
   ]
  },
  {
   "cell_type": "markdown",
   "metadata": {},
   "source": [
    "## LSTM Implementation"
   ]
  },
  {
   "cell_type": "code",
   "execution_count": 27,
   "metadata": {
    "ExecuteTime": {
     "end_time": "2019-01-29T14:09:47.341433Z",
     "start_time": "2019-01-29T14:09:47.224580Z"
    },
    "init_cell": true
   },
   "outputs": [],
   "source": [
    "import tensorflow as tf\n",
    "import numpy as np"
   ]
  },
  {
   "cell_type": "markdown",
   "metadata": {},
   "source": [
    "### Creating Graph"
   ]
  },
  {
   "cell_type": "code",
   "execution_count": null,
   "metadata": {
    "ExecuteTime": {
     "end_time": "2019-01-29T14:45:04.063169Z",
     "start_time": "2019-01-29T14:45:03.504027Z"
    },
    "init_cell": true
   },
   "outputs": [],
   "source": [
    "tf.reset_default_graph()\n",
    "lstm_graph = tf.Graph()\n",
    "\n",
    "with lstm_graph.as_default():\n",
    "    \n",
    "    inputs = tf.placeholder(tf.float32, [None, config.num_steps, config.input_size], name=\"Inputs\")\n",
    "    targets = tf.placeholder(tf.float32, [None, config.input_size], name=\"Targets\")\n",
    "    learning_rate = tf.placeholder(tf.float32, None, name=\"learning_rate\")\n",
    "\n",
    "    def _create_one_cell():\n",
    "        lstm_cell = tf.contrib.rnn.LSTMCell(config.lstm_size, state_is_tuple=True)\n",
    "        if config.keep_prob < 1.0:\n",
    "            lstm_cell = tf.contrib.rnn.DropoutWrapper(lstm_cell, output_keep_prob=config.keep_prob)\n",
    "        return lstm_cell\n",
    "    \n",
    "    if config.num_layers > 1:\n",
    "        cell = tf.contrib.rnn.MultiRNNCell(\n",
    "            [_create_one_cell() for _ in range(config.num_layers)],\n",
    "            state_is_tuple=True)\n",
    "    else:\n",
    "        cell = _create_one_cell()\n",
    "    \n",
    "    val, _ = tf.nn.dynamic_rnn(cell, inputs, dtype=tf.float32, scope=\"Recurrent_Nerural_Net\")\n",
    "    val = tf.transpose(val, [1,0,2])\n",
    "    \n",
    "    with tf.name_scope(\"Output_Layer\"):\n",
    "        last = tf.gather(val, int(val.get_shape()[0]) - 1, name=\"Last_LSTM_Outputs\")\n",
    "\n",
    "        weight = tf.Variable(tf.truncated_normal([config.lstm_size, config.input_size]), name=\"model_weights\")\n",
    "        bias = tf.Variable(tf.constant(0.1, shape=[config.input_size]), name=\"model_biases\")\n",
    "        prediction = tf.matmul(last, weight) + bias\n",
    "\n",
    "    \n",
    "    with tf.name_scope(\"Training_Attributes\"):\n",
    "        loss = tf.reduce_mean(tf.square(prediction-targets), name=\"Mean_Squared_Error_Loss\")\n",
    "        optimizer = tf.train.AdamOptimizer(learning_rate)\n",
    "        minimize = optimizer.minimize(loss, name=\"minimize_MSE_Loss\")\n",
    "        \n",
    "    for op in [prediction, loss]:\n",
    "        tf.add_to_collection(\"Ops_to_Restore\", op)"
   ]
  },
  {
   "cell_type": "markdown",
   "metadata": {},
   "source": [
    "### Computing Learning Rates"
   ]
  },
  {
   "cell_type": "code",
   "execution_count": null,
   "metadata": {},
   "outputs": [],
   "source": []
  },
  {
   "cell_type": "markdown",
   "metadata": {},
   "source": [
    "### Training"
   ]
  },
  {
   "cell_type": "code",
   "execution_count": null,
   "metadata": {},
   "outputs": [],
   "source": []
  },
  {
   "cell_type": "markdown",
   "metadata": {},
   "source": [
    "<br><br><br><br><br><br><br><br><br><br><br><br>"
   ]
  }
 ],
 "metadata": {
  "celltoolbar": "Initialization Cell",
  "kernelspec": {
   "display_name": "temp_DeepLearning",
   "language": "python",
   "name": "temp_deeplearning"
  },
  "language_info": {
   "codemirror_mode": {
    "name": "ipython",
    "version": 3
   },
   "file_extension": ".py",
   "mimetype": "text/x-python",
   "name": "python",
   "nbconvert_exporter": "python",
   "pygments_lexer": "ipython3",
   "version": "3.6.7"
  },
  "varInspector": {
   "cols": {
    "lenName": 16,
    "lenType": 16,
    "lenVar": 40
   },
   "kernels_config": {
    "python": {
     "delete_cmd_postfix": "",
     "delete_cmd_prefix": "del ",
     "library": "var_list.py",
     "varRefreshCmd": "print(var_dic_list())"
    },
    "r": {
     "delete_cmd_postfix": ") ",
     "delete_cmd_prefix": "rm(",
     "library": "var_list.r",
     "varRefreshCmd": "cat(var_dic_list()) "
    }
   },
   "types_to_exclude": [
    "module",
    "function",
    "builtin_function_or_method",
    "instance",
    "_Feature"
   ],
   "window_display": false
  }
 },
 "nbformat": 4,
 "nbformat_minor": 2
}
